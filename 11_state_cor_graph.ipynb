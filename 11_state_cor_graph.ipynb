{
 "cells": [
  {
   "cell_type": "code",
   "execution_count": 2,
   "metadata": {},
   "outputs": [],
   "source": [
    "from thllib import flylib as flb\n",
    "from matplotlib import pyplot as plt\n",
    "import numpy as np\n",
    "import scipy\n",
    "from thllib import util\n",
    "import figurefirst as fifi\n",
    "import scipy.signal\n",
    "import local_project_functions as lpf\n",
    "from IPython.display import SVG,display"
   ]
  },
  {
   "cell_type": "code",
   "execution_count": 3,
   "metadata": {},
   "outputs": [],
   "source": [
    "import networkx as nx"
   ]
  },
  {
   "cell_type": "code",
   "execution_count": 4,
   "metadata": {},
   "outputs": [],
   "source": [
    "%matplotlib inline"
   ]
  },
  {
   "cell_type": "code",
   "execution_count": 5,
   "metadata": {},
   "outputs": [],
   "source": [
    "flynumbers = list(range(1389,1402))\n",
    "flylist = [flb.NetFly(fnum,rootpath='/media/imager/FlyDataD/FlyDB/') for fnum in flynumbers]\n",
    "l = [fly.open_signals() for fly in flylist]\n",
    "#fly = flylist[4]\n",
    "#fly.open_signals()"
   ]
  },
  {
   "cell_type": "code",
   "execution_count": null,
   "metadata": {},
   "outputs": [],
   "source": [
    "layout = fifi.FigureLayout('graph_layout.svg',make_mplfigures=True)"
   ]
  },
  {
   "cell_type": "code",
   "execution_count": 243,
   "metadata": {},
   "outputs": [],
   "source": [
    "sorted_keys = sorted(fly.spikestates.keys())\n",
    "\n",
    "cull_list = [('left', 'bkg'),('right', 'bkg'),\n",
    "            ('left', 'iii24'),('right', 'iii24'),\n",
    "            ('left', 'nm'),('right', 'nm'),\n",
    "            ('left', 'pr'),('right', 'pr'),\n",
    "            ('left', 'tpd'),('right', 'tpd')]\n",
    "\n",
    "for cull in cull_list:\n",
    "    sorted_keys.remove(cull)\n",
    "#[sorted_keys.remove(cull) for cull in cull_list]\n",
    "\n",
    "graphs = {}\n",
    "for fly in flylist:\n",
    "    state_mtrx = np.vstack([fly.spikestates[key] for key in sorted_keys])\n",
    "    centered_mtrx = state_mtrx - np.mean(state_mtrx,axis = 1)[:,None]\n",
    "    std_mtrx = centered_mtrx/np.std(centered_mtrx,axis = 1)[:,None]\n",
    "    cor_mtrx = np.dot(std_mtrx,std_mtrx.T)\n",
    "    G = nx.Graph()\n",
    "    for i,lbl1 in enumerate(sorted_keys):\n",
    "        for j,lbl2 in enumerate(sorted_keys):\n",
    "            G.add_edge(lbl1,lbl2,weight = cor_mtrx[i,j])\n",
    "    graphs[fly.flynum] = G\n",
    "\n",
    "edges = G.edges\n",
    "colors = [{True:'b',False:'r'}[G[e[0]][e[1]]['weight']>0.] for e in edges]\n",
    "\n",
    "\n",
    "\n",
    "h = float(layout.layout_uh)\n",
    "pos_dict = {}\n",
    "for n in G.nodes:\n",
    "    n_s = '%s_%s'%(n[0][0].capitalize(),n[1])\n",
    "    cx = float(layout.pathspecs[n_s]['cx'])\n",
    "    cy = h-float(layout.pathspecs[n_s]['cy'])\n",
    "    try:\n",
    "        if 'transform' in layout.pathspecs[n_s].keys():\n",
    "            t1 = fifi.svg_to_axes.parse_transform(layout.pathspecs[n_s]['transform'])\n",
    "            p = np.dot(t1,np.array([cx,cy,1]))\n",
    "            pos_dict[n] = (p[0],p[1])\n",
    "        else:\n",
    "            pos_dict[n]  = (cx,cy)\n",
    "    except KeyError:\n",
    "        print n\n",
    "\n",
    "for flynum,G in graphs.items():\n",
    "    edges= G.edges\n",
    "    weights = [np.abs(G[e[0]][e[1]]['weight'])**2.6/100000000000. for e in edges]\n",
    "    nx.draw(G,\n",
    "            ax = layout.axes['network_graph_layout'],\n",
    "            pos = pos_dict,\n",
    "            font_color = 'r',\n",
    "            with_labels= False,\n",
    "            width = weights,\n",
    "            edge_color = colors,\n",
    "            alpha = 0.1)\n",
    "\n",
    "layout.axes['network_graph_layout'].set_ybound(0,layout.axes['network_graph_layout'].h)\n",
    "layout.axes['network_graph_layout'].set_xbound(0,layout.axes['network_graph_layout'].w)\n",
    "\n",
    "layout.save('graph.svg')\n",
    "plt.close('all')\n",
    "display(SVG('graph.svg'))"
   ]
  }
 ],
 "metadata": {
  "kernelspec": {
   "display_name": "Python 2",
   "language": "python",
   "name": "python2"
  },
  "language_info": {
   "codemirror_mode": {
    "name": "ipython",
    "version": 2
   },
   "file_extension": ".py",
   "mimetype": "text/x-python",
   "name": "python",
   "nbconvert_exporter": "python",
   "pygments_lexer": "ipython2",
   "version": "2.7.12"
  }
 },
 "nbformat": 4,
 "nbformat_minor": 2
}
