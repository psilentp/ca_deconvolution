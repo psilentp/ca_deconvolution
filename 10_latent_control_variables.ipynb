{
 "cells": [
  {
   "cell_type": "code",
   "execution_count": 3,
   "metadata": {},
   "outputs": [],
   "source": [
    "from thllib import flylib as flb\n",
    "from matplotlib import pyplot as plt\n",
    "import numpy as np\n",
    "import scipy\n",
    "from thllib import util\n",
    "import figurefirst as fifi\n",
    "import scipy.signal\n",
    "import local_project_functions as lpf\n",
    "from IPython.display import SVG,display"
   ]
  },
  {
   "cell_type": "code",
   "execution_count": 4,
   "metadata": {},
   "outputs": [],
   "source": [
    "%matplotlib inline"
   ]
  },
  {
   "cell_type": "code",
   "execution_count": 5,
   "metadata": {},
   "outputs": [],
   "source": [
    "flynumbers = list(range(1389,1402))\n",
    "flylist = [flb.NetFly(fnum,rootpath='/media/imager/FlyDataD/FlyDB/') for fnum in flynumbers]\n",
    "l = [fly.open_signals() for fly in flylist]\n",
    "#fly = flylist[4]\n",
    "#fly.open_signals()"
   ]
  },
  {
   "cell_type": "code",
   "execution_count": 6,
   "metadata": {},
   "outputs": [],
   "source": [
    "sorted_keys = sorted(flylist[0].spikestates.keys())\n",
    "\n",
    "cull_list = [('left', 'bkg'),('right', 'bkg'),\n",
    "            ('left', 'iii24'),('right', 'iii24'),\n",
    "            ('left', 'nm'),('right', 'nm'),\n",
    "            ('left', 'pr'),('right', 'pr'),\n",
    "            ('left', 'tpd'),('right', 'tpd'),\n",
    "            ('left', 'iii1'),('right', 'iii1'),\n",
    "            ('left', 'i2'),('right', 'i2'),\n",
    "            ('left', 'b1'),('right', 'b1'),\n",
    "            ('left', 'b2'),('right', 'b2'),\n",
    "            ('left', 'hg2'),('right', 'hg2'),\n",
    "            ('left', 'hg3'),('right', 'hg3'),\n",
    "            ('left', 'hg4'),('right', 'hg4')]\n",
    "\n",
    "for cull in cull_list:\n",
    "    sorted_keys.remove(cull)\n",
    "#[sorted_keys.remove(cull) for cull in cull_list]"
   ]
  },
  {
   "cell_type": "code",
   "execution_count": 8,
   "metadata": {},
   "outputs": [],
   "source": [
    "#set(fly.block_data.keys())"
   ]
  },
  {
   "cell_type": "code",
   "execution_count": 10,
   "metadata": {},
   "outputs": [],
   "source": [
    "state_mtrxs = []\n",
    "lmr = []\n",
    "for fly in flylist:\n",
    "    state_mtrx = np.vstack([fly.spikestates[key] for key in sorted_keys])\n",
    "    #key = ('common', 'idx', 'cl_blocks, g_x=-1, g_y=0 b_x=0, b_y=0')\n",
    "    #key = ('common', 'idx', 'cl_blocks, g_x=-1, g_y=0 b_x=-8, b_y=0')\n",
    "    key = ('common', 'idx', 'cl_blocks, g_x=-1, g_y=0 b_x=0, b_y=0')\n",
    "    idx_list = fly.block_data[key]\n",
    "    state_mtrxs.extend([np.array(state_mtrx[:,idx[300:]]) for idx in idx_list])\n",
    "    lmr.extend([np.array(fly.left_amp)[idx[300:]]-np.array(fly.right_amp)[idx[300:]] \n",
    "                for idx in idx_list])"
   ]
  },
  {
   "cell_type": "code",
   "execution_count": 11,
   "metadata": {},
   "outputs": [],
   "source": [
    "from sklearn.cluster import AffinityPropagation,DBSCAN,AgglomerativeClustering,KMeans\n",
    "from sklearn.manifold import TSNE\n",
    "from sklearn.decomposition import PCA"
   ]
  },
  {
   "cell_type": "code",
   "execution_count": 12,
   "metadata": {},
   "outputs": [],
   "source": [
    "def dist(r1,r2):\n",
    "    \"\"\"distance metric for binary strings defined by \n",
    "    a 50/50 chance of flipping a single bit\"\"\"\n",
    "    p1 = 1-0.5**np.sum(~(r1.astype(bool) == r2.astype(bool)))\n",
    "    return p1"
   ]
  },
  {
   "cell_type": "code",
   "execution_count": 13,
   "metadata": {},
   "outputs": [],
   "source": [
    "train_dset = np.hstack(state_mtrxs).T"
   ]
  },
  {
   "cell_type": "code",
   "execution_count": 14,
   "metadata": {},
   "outputs": [
    {
     "data": {
      "text/plain": [
       "(6650, 8)"
      ]
     },
     "execution_count": 14,
     "metadata": {},
     "output_type": "execute_result"
    }
   ],
   "source": [
    "np.shape(train_dset)"
   ]
  },
  {
   "cell_type": "code",
   "execution_count": 16,
   "metadata": {},
   "outputs": [
    {
     "data": {
      "image/png": "[encoded data removed]",
      "text/plain": [
       "<matplotlib.figure.Figure at 0x7fed64183110>"
      ]
     },
     "metadata": {},
     "output_type": "display_data"
    }
   ],
   "source": [
    "plt.figure(figsize = (8,2.8))\n",
    "plt.imshow(train_dset[:,0:5000].T,aspect = 'auto',interpolation = 'nearest')\n",
    "plt.gca().set_yticks(range(len(sorted_keys)))\n",
    "lbs = plt.gca().set_yticklabels(['%s %s'%k for k in sorted_keys])"
   ]
  },
  {
   "cell_type": "code",
   "execution_count": 659,
   "metadata": {},
   "outputs": [],
   "source": [
    "#tsne = TSNE(n_components=2)\n",
    "#X_embedded = tsne.fit_transform(train_dset)"
   ]
  },
  {
   "cell_type": "code",
   "execution_count": 660,
   "metadata": {},
   "outputs": [],
   "source": [
    "#ds = DBSCAN(min_samples = 20,eps = 0.1).fit(X_embedded)"
   ]
  },
  {
   "cell_type": "code",
   "execution_count": 661,
   "metadata": {},
   "outputs": [],
   "source": [
    "#ds = DBSCAN(metric=dist,min_samples = 20,eps = 0.0001).fit(train_dset)"
   ]
  },
  {
   "cell_type": "code",
   "execution_count": 662,
   "metadata": {},
   "outputs": [],
   "source": [
    "#ds.labels_"
   ]
  },
  {
   "cell_type": "code",
   "execution_count": 663,
   "metadata": {},
   "outputs": [],
   "source": [
    "#colors = plt.cm.prism(ds.labels_/45.)#np.max(ds.labels_))"
   ]
  },
  {
   "cell_type": "code",
   "execution_count": 664,
   "metadata": {},
   "outputs": [],
   "source": [
    "#colors[ds.labels_ == -1] = [0,0,0,1]"
   ]
  },
  {
   "cell_type": "code",
   "execution_count": 665,
   "metadata": {},
   "outputs": [],
   "source": [
    "#plt.scatter(X_embedded[:,0],X_embedded[:,1],c = colors, edgecolors='None',alpha = 0.1)"
   ]
  },
  {
   "cell_type": "code",
   "execution_count": 666,
   "metadata": {},
   "outputs": [],
   "source": [
    "#np.max(ds.labels_)"
   ]
  },
  {
   "cell_type": "code",
   "execution_count": 17,
   "metadata": {},
   "outputs": [],
   "source": [
    "tprob = {}"
   ]
  },
  {
   "cell_type": "code",
   "execution_count": 18,
   "metadata": {},
   "outputs": [],
   "source": [
    "train_dset = train_dset.astype(int)"
   ]
  },
  {
   "cell_type": "code",
   "execution_count": 19,
   "metadata": {},
   "outputs": [],
   "source": [
    "state_list = [tuple(row) for row in train_dset]\n",
    "state_set = set(state_list)"
   ]
  },
  {
   "cell_type": "code",
   "execution_count": 21,
   "metadata": {},
   "outputs": [],
   "source": [
    "state_counts = {}\n",
    "for state in state_set:\n",
    "    state_counts[state] = np.sum(np.sum(state==train_dset,axis = 1)==8)"
   ]
  },
  {
   "cell_type": "code",
   "execution_count": 23,
   "metadata": {},
   "outputs": [],
   "source": [
    "tprob = {}\n",
    "for row1,row2 in zip(train_dset[:-1],train_dset[1:]):\n",
    "    if (tuple(row1),tuple(row2)) in tprob.keys():\n",
    "        tprob[tuple(row1),tuple(row2)] += 1\n",
    "    else:\n",
    "        tprob[tuple(row1),tuple(row2)] = 1"
   ]
  },
  {
   "cell_type": "code",
   "execution_count": 24,
   "metadata": {},
   "outputs": [],
   "source": [
    "filtered = {}\n",
    "for key,tnum in tprob.items():\n",
    "    if (tnum > 1) and (state_counts[key[0]] >10) and (state_counts[key[1]]>10):\n",
    "        filtered[key] = tnum"
   ]
  },
  {
   "cell_type": "code",
   "execution_count": 25,
   "metadata": {},
   "outputs": [],
   "source": [
    "inkeys = [x[0] for x in filtered.keys()]\n",
    "outkeys = [x[1] for x in filtered.keys()]"
   ]
  },
  {
   "cell_type": "code",
   "execution_count": 26,
   "metadata": {},
   "outputs": [],
   "source": [
    "filterd_set = list(set(inkeys + outkeys))"
   ]
  },
  {
   "cell_type": "code",
   "execution_count": 27,
   "metadata": {},
   "outputs": [],
   "source": [
    "transition_mtrx = np.zeros((len(filterd_set),len(filterd_set)))"
   ]
  },
  {
   "cell_type": "code",
   "execution_count": 28,
   "metadata": {},
   "outputs": [
    {
     "data": {
      "text/plain": [
       "(31, 31)"
      ]
     },
     "execution_count": 28,
     "metadata": {},
     "output_type": "execute_result"
    }
   ],
   "source": [
    "np.shape(transition_mtrx)"
   ]
  },
  {
   "cell_type": "code",
   "execution_count": 29,
   "metadata": {},
   "outputs": [],
   "source": [
    "for i,state1 in enumerate(filterd_set):\n",
    "    for j,state2 in enumerate(filterd_set):\n",
    "        try:\n",
    "            transition_mtrx[i,j] = filtered[state1,state2]\n",
    "        except KeyError:\n",
    "            pass"
   ]
  },
  {
   "cell_type": "code",
   "execution_count": 30,
   "metadata": {},
   "outputs": [],
   "source": [
    "transition_prob = transition_mtrx/np.sum(transition_mtrx,axis = 1)[:,None]\n",
    "transition_prob[np.isnan(transition_prob)] = 0"
   ]
  },
  {
   "cell_type": "code",
   "execution_count": 32,
   "metadata": {},
   "outputs": [],
   "source": [
    "sidx = np.argsort(np.diag(transition_prob))[::-1]"
   ]
  },
  {
   "cell_type": "code",
   "execution_count": 72,
   "metadata": {},
   "outputs": [
    {
     "data": {
      "text/plain": [
       "(1, 0, 0, 1, 0, 0, 0, 1)"
      ]
     },
     "execution_count": 72,
     "metadata": {},
     "output_type": "execute_result"
    }
   ],
   "source": [
    "filterd_set[4]"
   ]
  },
  {
   "cell_type": "code",
   "execution_count": 105,
   "metadata": {},
   "outputs": [],
   "source": [
    "def to_mstr(state_tuple):\n",
    "    return ([{0:' ',1:' %s%-3s'%(sorted_keys[i][0][0],sorted_keys[i][1])}[s] for i,s in enumerate(state_tuple)])"
   ]
  },
  {
   "cell_type": "code",
   "execution_count": 175,
   "metadata": {},
   "outputs": [
    {
     "name": "stderr",
     "output_type": "stream",
     "text": [
      "/home/imager/.local/lib/python2.7/site-packages/ipykernel/__main__.py:2: RuntimeWarning: divide by zero encountered in log\n",
      "  from ipykernel import kernelapp as app\n"
     ]
    },
    {
     "data": {
      "image/png": "[encoded data removed]",
      "text/plain": [
       "<matplotlib.figure.Figure at 0x7fed1cabf750>"
      ]
     },
     "metadata": {},
     "output_type": "display_data"
    }
   ],
   "source": [
    "fig = plt.figure(figsize = (10,10))\n",
    "plt.imshow(np.log(transition_prob[sidx].T[sidx]),interpolation = 'none',\n",
    "          cmap = plt.cm.viridis)\n",
    "#plt.imshow(transition_prob[sidx].T[sidx],interpolation = 'none',\n",
    "#          cmap = plt.cm.viridis)\n",
    "plt.gca().set_yticks(range(len(filterd_set)))\n",
    "#lbs = plt.gca().set_yticklabels([to_mstr(filterd_set[i]) for i in sidx])\n",
    "for row,idx in enumerate(sidx):\n",
    "    state = filterd_set[idx]\n",
    "    for i,onoff in enumerate(state):\n",
    "        plt.text(-2*i -3,row,{0:'',1:' %s%-3s'%(sorted_keys[i][0][0],sorted_keys[i][1])}[onoff])\n",
    "lbs = plt.gca().set_yticklabels(['' for i in sidx])"
   ]
  },
  {
   "cell_type": "code",
   "execution_count": 126,
   "metadata": {},
   "outputs": [],
   "source": [
    "state_table = np.array(filterd_set)[sidx,:]"
   ]
  },
  {
   "cell_type": "code",
   "execution_count": 155,
   "metadata": {},
   "outputs": [],
   "source": [
    "def next_state(current_state,state_table,tmtrx):\n",
    "    from numpy import random\n",
    "    state_idx = np.squeeze(np.argwhere(np.all(state_table == current_state,axis = 1)))\n",
    "    prob_vector = tmtrx[:,state_idx]\n",
    "    idx = random.choice(np.arange(len(state_table)),p = prob_vector)\n",
    "    return state_table[idx]"
   ]
  },
  {
   "cell_type": "code",
   "execution_count": 156,
   "metadata": {},
   "outputs": [],
   "source": [
    "tmtrx = transition_prob[sidx].T[sidx]"
   ]
  },
  {
   "cell_type": "code",
   "execution_count": 168,
   "metadata": {},
   "outputs": [],
   "source": [
    "state_list = [[1,0,1,0,1,0,0,1]]\n",
    "for i in range(5000):\n",
    "    state_list.append(next_state(state_list[-1],state_table,tmtrx))"
   ]
  },
  {
   "cell_type": "code",
   "execution_count": 169,
   "metadata": {},
   "outputs": [
    {
     "data": {
      "text/plain": [
       "<matplotlib.image.AxesImage at 0x7fed1c761910>"
      ]
     },
     "execution_count": 169,
     "metadata": {},
     "output_type": "execute_result"
    },
    {
     "data": {
      "image/png": "[encoded data removed]",
      "text/plain": [
       "<matplotlib.figure.Figure at 0x7fed19e04a90>"
      ]
     },
     "metadata": {},
     "output_type": "display_data"
    }
   ],
   "source": [
    "plt.figure(figsize = (8,2.8))\n",
    "plt.imshow(np.array(state_list).T,aspect = 'auto',interpolation = 'nearest')"
   ]
  },
  {
   "cell_type": "code",
   "execution_count": null,
   "metadata": {},
   "outputs": [],
   "source": []
  },
  {
   "cell_type": "code",
   "execution_count": null,
   "metadata": {},
   "outputs": [],
   "source": []
  },
  {
   "cell_type": "code",
   "execution_count": null,
   "metadata": {},
   "outputs": [],
   "source": []
  },
  {
   "cell_type": "code",
   "execution_count": null,
   "metadata": {},
   "outputs": [],
   "source": []
  },
  {
   "cell_type": "code",
   "execution_count": null,
   "metadata": {},
   "outputs": [],
   "source": []
  }
 ],
 "metadata": {
  "kernelspec": {
   "display_name": "Python 2",
   "language": "python",
   "name": "python2"
  },
  "language_info": {
   "codemirror_mode": {
    "name": "ipython",
    "version": 2
   },
   "file_extension": ".py",
   "mimetype": "text/x-python",
   "name": "python",
   "nbconvert_exporter": "python",
   "pygments_lexer": "ipython2",
   "version": "2.7.12"
  }
 },
 "nbformat": 4,
 "nbformat_minor": 2
}
