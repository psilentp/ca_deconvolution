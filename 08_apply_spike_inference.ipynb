{
 "cells": [
  {
   "cell_type": "code",
   "execution_count": 1,
   "metadata": {},
   "outputs": [
    {
     "data": {
      "text/plain": [
       "[<subprocess.Popen at 0x7f0f0ab01750>,\n",
       " <subprocess.Popen at 0x7f0f0ab01510>,\n",
       " <subprocess.Popen at 0x7f0f0ab017d0>,\n",
       " <subprocess.Popen at 0x7f0f0ab01590>,\n",
       " <subprocess.Popen at 0x7f0f0ab015d0>,\n",
       " <subprocess.Popen at 0x7f0f0ab01790>,\n",
       " <subprocess.Popen at 0x7f0f0ab01550>,\n",
       " <subprocess.Popen at 0x7f0f0ab01390>,\n",
       " <subprocess.Popen at 0x7f0f0ab01810>,\n",
       " <subprocess.Popen at 0x7f0f0ab01850>,\n",
       " <subprocess.Popen at 0x7f0f0ab01890>,\n",
       " <subprocess.Popen at 0x7f0f0ab018d0>,\n",
       " <subprocess.Popen at 0x7f0f0ab01910>]"
      ]
     },
     "execution_count": 1,
     "metadata": {},
     "output_type": "execute_result"
    }
   ],
   "source": [
    "from thllib import flylib as flb\n",
    "flynumbers = list(range(1389,1402))\n",
    "flylist = [flb.NetFly(fnum,rootpath='/media/imager/FlyDataD/FlyDB/') for fnum in flynumbers]\n",
    "[fly.copy_to_flydir('spike_extraction.py') for fly in flylist]\n",
    "[fly.run_py('spike_extraction.py',pass_flynum=True) for fly in flylist]"
   ]
  },
  {
   "cell_type": "code",
   "execution_count": null,
   "metadata": {},
   "outputs": [],
   "source": []
  }
 ],
 "metadata": {
  "kernelspec": {
   "display_name": "Python 2",
   "language": "python",
   "name": "python2"
  },
  "language_info": {
   "codemirror_mode": {
    "name": "ipython",
    "version": 2
   },
   "file_extension": ".py",
   "mimetype": "text/x-python",
   "name": "python",
   "nbconvert_exporter": "python",
   "pygments_lexer": "ipython2",
   "version": "2.7.12"
  }
 },
 "nbformat": 4,
 "nbformat_minor": 2
}
